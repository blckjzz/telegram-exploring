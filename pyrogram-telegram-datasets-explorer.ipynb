{
 "cells": [
  {
   "cell_type": "code",
   "execution_count": null,
   "id": "0bd9301e",
   "metadata": {},
   "outputs": [],
   "source": [
    "from pyrogram import Client\n",
    "from datetime import datetime\n",
    "import pandas as pd\n",
    "import os\n",
    "from dotenv import load_dotenv\n",
    "load_dotenv()\n",
    "\n",
    "api_id = os.getenv('api_id')\n",
    "api_hash = os.getenv('api_hash')"
   ]
  },
  {
   "cell_type": "code",
   "execution_count": null,
   "id": "9d0a3bc3",
   "metadata": {},
   "outputs": [],
   "source": [
    "app = Client(\"my_account\", api_id, api_hash)\n",
    "\n",
    "# chat_id é o interno do telegram para o chat\n",
    "# chat_id=-1001746519249\n",
    "chat_id = -1001251759593  # Allan Santos  # Grupo telegram de notícias"
   ]
  },
  {
   "cell_type": "code",
   "execution_count": null,
   "id": "01314c49",
   "metadata": {},
   "outputs": [],
   "source": [
    "def convert_date(unix_time):\n",
    "    ts = int(unix_time)\n",
    "    # if you encounter a \"year is out of range\" error the timestamp\n",
    "    # may be in milliseconds, try `ts /= 1000` in that case\n",
    "    return datetime.utcfromtimestamp(ts).strftime('%Y-%m-%d %H:%M:%S')\n",
    "\n",
    "\n",
    "async def list_dialogs():\n",
    "    async for dialog in app.iter_dialogs():\n",
    "        print(dialog.chat.first_name or dialog.chat.title, ':', dialog.chat.id)\n",
    "\n",
    "\n",
    "async def getMessagesFromChat(): # Retorna um objeto Mensagem https://docs.pyrogram.org/api/types/Message#pyrogram.types.Message\n",
    "    # Ver isso para entender como lidar com midias no telegrma: https://docs.pyrogram.org/api/methods/get_history\n",
    "    async for m in app.iter_history(chat_id, limit=10, reverse=False):\n",
    "        print(\"=============\", m.message_id, \"==============\")\n",
    "        print('Message id:', m.from_user) # id do usuário\n",
    "        print('Texto da mensagem:', m.text)\n",
    "        print('Timestamp: ', convert_date(m.date)) # timestamp da mensagem\n",
    "        print('É midia?', m.media)\n",
    "        print('É Audio?', m.audio)\n",
    "        print('É Foto?', m.photo)\n",
    "        print('É Legenda', m.caption)\n",
    "        print('É Sticker?', m.sticker)\n",
    "        print('É Documento?', m.document)\n",
    "        print('É Video-note?', m.video_note)\n",
    "        print('Infos da Web-page?', m.web_page)\n",
    "        print('Qtd de view do chat?', m.views)\n",
    "        print('Link da mensagem dentro do grupo:', m.link)\n",
    "        print('É mensagem automática (telegram)?', m.service) # service (str, optional) – The message is a service message. This field will contain the name of the service message. A service message has one and only one of these fields set: new_chat_members, left_chat_member, new_chat_title, new_chat_photo, delete_chat_photo, group_chat_created, channel_chat_created, migrate_to_chat_id, migrate_from_chat_id, pinned_message, game_high_score, voice_chat_started, voice_chat_ended, voice_chat_scheduled, voice_chat_members_invited.\n",
    "        print('Data de edição da mensagem:', convert_date(m.edit_date))\n",
    "        print(\"============= ==============\")\n",
    "\n",
    "\n",
    "async def getChatInfoById():\n",
    "    chat = await app.get_chat(chat_id)\n",
    "    # print(f'{chat}') # para ver o json completo do objeto Chat\n",
    "    print('============= / CHAT INFOS / ============= ')\n",
    "    print('Título: [', chat.title, ']')\n",
    "    print('Tipo:[', chat.type, ']')\n",
    "    print('============= / FIM / ============= ')\n",
    "\n",
    "def getChatInfos():\n",
    "    for dialogs in app.iter_dialogs():\n",
    "        print(f'{dialogs.chat}')\n",
    "\n"
   ]
  },
  {
   "cell_type": "code",
   "execution_count": null,
   "id": "1d14c90f",
   "metadata": {},
   "outputs": [],
   "source": [
    "with app:\n",
    "    await app.start()\n",
    "    await getChatInfoById()\n",
    "    await app.stop()"
   ]
  },
  {
   "cell_type": "code",
   "execution_count": null,
   "id": "372c50fd",
   "metadata": {
    "scrolled": true
   },
   "outputs": [],
   "source": [
    "# this will list all telegram chats/groups you participate\n",
    "\n",
    "with app:\n",
    "    await app.start()\n",
    "    await list_dialogs()# \n",
    "    await app.stop()"
   ]
  },
  {
   "cell_type": "code",
   "execution_count": null,
   "id": "b0b5e740",
   "metadata": {},
   "outputs": [],
   "source": [
    "async def recover_messages(): # Retorna um objeto Mensagem https://docs.pyrogram.org/api/types/Message#pyrogram.types.Message\n",
    "    m1 = []\n",
    "    # Ver isso para entender como lidar com midias no telegrma: https://docs.pyrogram.org/api/methods/get_history\n",
    "    async for m in app.iter_history(chat_id, limit=10, reverse=False):\n",
    "        m1.append(m) # junta as mensagens num dicionário\n",
    "        "
   ]
  },
  {
   "cell_type": "code",
   "execution_count": null,
   "id": "7d3592a9",
   "metadata": {},
   "outputs": [],
   "source": [
    "with app:\n",
    "    await app.start()\n",
    "    await recover_messages()\n",
    "    await app.stop()"
   ]
  },
  {
   "cell_type": "code",
   "execution_count": null,
   "id": "013e7939",
   "metadata": {},
   "outputs": [],
   "source": [
    "with app:\n",
    "    await app.start()\n",
    "    messages = recover_messages()# \n",
    "    await app.stop()\n"
   ]
  },
  {
   "cell_type": "code",
   "execution_count": null,
   "id": "81d57524",
   "metadata": {
    "scrolled": false
   },
   "outputs": [],
   "source": [
    "df = pd.DataFrame()"
   ]
  },
  {
   "cell_type": "code",
   "execution_count": null,
   "id": "a69e9fec",
   "metadata": {
    "scrolled": true
   },
   "outputs": [],
   "source": [
    "# convert to dataframe \n",
    "for m in m1:\n",
    "    x = {\n",
    "        'message_id' : m.message_id,\n",
    "        'media_type': m.media,\n",
    "        'text': m.text,\n",
    "        'subtitle_picture': m.caption,\n",
    "        'date_message_sent' : convert_date(m.date),\n",
    "        'is_audio': m.audio,\n",
    "        'is_photo': m.photo,\n",
    "        'is_sticker': m.sticker,\n",
    "        'is_document': m.document,\n",
    "        'is_video_note': m.video_note,\n",
    "        'is_web-page': m.web_page,\n",
    "        'message_views': m.views,\n",
    "        'telegram_message_url': m.link, \n",
    "        'is_telegram_internal_message': m.service, # service (str, optional) – The message is a service message. This field will contain the name of the service message. A service message has one and only one of these fields set: new_chat_members, left_chat_member, new_chat_title, new_chat_photo, delete_chat_photo, group_chat_created, channel_chat_created, migrate_to_chat_id, migrate_from_chat_id, pinned_message, game_high_score, voice_chat_started, voice_chat_ended, voice_chat_scheduled, voice_chat_members_invited.\n",
    "        'date_message_edited': convert_date(m.edit_date)\n",
    "    \n",
    "    }\n",
    "    df = df.append(x, ignore_index = True)\n",
    "     \n",
    "    "
   ]
  },
  {
   "cell_type": "code",
   "execution_count": null,
   "id": "998cf90e",
   "metadata": {
    "scrolled": false
   },
   "outputs": [],
   "source": [
    "df.head()"
   ]
  },
  {
   "cell_type": "code",
   "execution_count": null,
   "id": "2f1183a1",
   "metadata": {},
   "outputs": [],
   "source": [
    "# df['is_document'].'df['media_type'] == 'web_page']]\n",
    "\n",
    "df.loc[df['is_document'].isna()]\n"
   ]
  },
  {
   "cell_type": "code",
   "execution_count": null,
   "id": "db2a9854",
   "metadata": {
    "scrolled": true
   },
   "outputs": [],
   "source": [
    "df[df['is_web-page'] != 'N']"
   ]
  },
  {
   "cell_type": "code",
   "execution_count": null,
   "id": "89369bf5",
   "metadata": {
    "scrolled": true
   },
   "outputs": [],
   "source": [
    "df[df['media_type'].isna()].to_csv('./exports/telegram-sem-filtro.csv')\n",
    "\n",
    "df.to_csv('./exports/telegram-sem-filtro.csv')"
   ]
  }
 ],
 "metadata": {
  "kernelspec": {
   "display_name": "pyrogram",
   "language": "python",
   "name": "pyrogram"
  },
  "language_info": {
   "codemirror_mode": {
    "name": "ipython",
    "version": 3
   },
   "file_extension": ".py",
   "mimetype": "text/x-python",
   "name": "python",
   "nbconvert_exporter": "python",
   "pygments_lexer": "ipython3",
   "version": "3.9.4"
  }
 },
 "nbformat": 4,
 "nbformat_minor": 5
}
